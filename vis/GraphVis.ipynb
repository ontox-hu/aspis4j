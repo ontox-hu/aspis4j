{
 "cells": [
  {
   "cell_type": "markdown",
   "metadata": {},
   "source": [
    "\n",
    "# Neo4j Graph Visualization\n",
    "\n",
    "Notebook to visualize a graph stored in a Neo4j database."
   ]
  },
  {
   "cell_type": "markdown",
   "metadata": {},
   "source": [
    "Import required libraries"
   ]
  },
  {
   "cell_type": "code",
   "execution_count": 1,
   "metadata": {},
   "outputs": [],
   "source": [
    "from py2neo.ogm import Graph, Node, GraphObject, Property, RelatedTo, NodeMatcher\n",
    "from py2neo.data import Relationship\n",
    "import neo4jupyter as nj\n",
    "import dotenv\n",
    "from environs import Env"
   ]
  },
  {
   "cell_type": "markdown",
   "metadata": {},
   "source": [
    "Initialize Neo4jupiter"
   ]
  },
  {
   "cell_type": "code",
   "execution_count": 2,
   "metadata": {},
   "outputs": [
    {
     "data": {
      "application/javascript": "var link = document.createElement(\"link\");\n\tlink.ref = \"stylesheet\";\n\tlink.type = \"text/css\";\n\tlink.href = \"https://cdnjs.cloudflare.com/ajax/libs/vis/4.8.2/vis.css\";\n\tdocument.head.appendChild(link);\nrequire.config({     paths: {         vis: '//cdnjs.cloudflare.com/ajax/libs/vis/4.8.2/vis.min'     } }); require(['vis'], function(vis) {  window.vis = vis; }); ",
      "text/plain": [
       "<IPython.core.display.Javascript object>"
      ]
     },
     "metadata": {},
     "output_type": "display_data"
    }
   ],
   "source": [
    "nj.init_notebook_mode()"
   ]
  },
  {
   "cell_type": "markdown",
   "metadata": {},
   "source": [
    "Load environment variables with settings for connection to Neo4j DB"
   ]
  },
  {
   "cell_type": "code",
   "execution_count": 3,
   "metadata": {},
   "outputs": [
    {
     "data": {
      "text/plain": [
       "'c61a7d98.databases.neo4j.io'"
      ]
     },
     "execution_count": 3,
     "metadata": {},
     "output_type": "execute_result"
    }
   ],
   "source": [
    "dotenv.load_dotenv('../vars.sh', override=True)\n",
    "env = Env()\n",
    "NEO4J_HOST     = env('NEO4J_HOST', default='localhost')\n",
    "NEO4J_PORT     = env.int('NEO4J_PORT', default=7687)\n",
    "NEO4J_USER     = env('NEO4J_USER', default='neo4j')\n",
    "NEO4J_PASSWORD = env('NEO4J_PASSWORD', default='admin')\n",
    "NEO4J_HOST"
   ]
  },
  {
   "cell_type": "markdown",
   "metadata": {},
   "source": [
    "Connect to Neo4j DB"
   ]
  },
  {
   "cell_type": "code",
   "execution_count": 4,
   "metadata": {},
   "outputs": [
    {
     "name": "stdout",
     "output_type": "stream",
     "text": [
      "Connection to Neo4j DB succesfull\n"
     ]
    }
   ],
   "source": [
    "graph = Graph( \n",
    "    host     = NEO4J_HOST,\n",
    "    port     = NEO4J_PORT,\n",
    "    user     = NEO4J_USER,\n",
    "    password = NEO4J_PASSWORD,\n",
    "    scheme   = \"neo4j+s\"\n",
    ")\n",
    "try:\n",
    "    graph.run(\"MATCH () RETURN 1 LIMIT 1\")\n",
    "    print('Connection to Neo4j DB succesfull')\n",
    "except Exception:\n",
    "    print('No connection to Neo4j DB')"
   ]
  },
  {
   "cell_type": "markdown",
   "metadata": {},
   "source": [
    "Visualize the graph"
   ]
  },
  {
   "cell_type": "code",
   "execution_count": 6,
   "metadata": {},
   "outputs": [
    {
     "data": {
      "text/html": [
       "<div id=\"42acde25-6b04-43b7-b9d4-c02bd02e3919\" style=\"height: 400px;\"></div>\n",
       "\n",
       "<script type=\"text/javascript\">\n",
       "\n",
       "    var nodes = [{\"id\": 78, \"label\": \"C534422\", \"group\": \"Chemical\", \"title\": \"Node('Chemical', CasRN='', ChemicalID='C534422', ChemicalName='10-(2-pyrazolylethoxy)camptothecin')\"}, {\"id\": 79, \"label\": \"836\", \"group\": \"Gene\", \"title\": \"Node('Gene', GeneID='836', GeneSymbol='CASP3')\"}, {\"id\": 58, \"label\": \"C112297\", \"group\": \"Chemical\", \"title\": \"Node('Chemical', CasRN='', ChemicalID='C112297', ChemicalName='10,10-bis(4-pyridinylmethyl)-9(10H)-anthracenone')\"}, {\"id\": 59, \"label\": \"3785\", \"group\": \"Gene\", \"title\": \"Node('Gene', GeneID='3785', GeneSymbol='KCNQ2')\"}, {\"id\": 751, \"label\": \"C065719\", \"group\": \"Chemical\", \"title\": \"Node('Chemical', CasRN='83219-99-2', ChemicalID='C065719', ChemicalName='10-hydroxywarfarin')\"}, {\"id\": 752, \"label\": \"1559\", \"group\": \"Gene\", \"title\": \"Node('Gene', GeneID='1559', GeneSymbol='CYP2C9')\"}, {\"id\": 56, \"label\": \"C112297\", \"group\": \"Chemical\", \"title\": \"Node('Chemical', CasRN='', ChemicalID='C112297', ChemicalName='10,10-bis(4-pyridinylmethyl)-9(10H)-anthracenone')\"}, {\"id\": 57, \"label\": \"3784\", \"group\": \"Gene\", \"title\": \"Node('Gene', GeneID='3784', GeneSymbol='KCNQ1')\"}, {\"id\": 100, \"label\": \"C553100\", \"group\": \"Chemical\", \"title\": \"Node('Chemical', CasRN='', ChemicalID='C553100', ChemicalName=\\\"10-(4'-(N-diethylamino)butyl)-2-chlorophenoxazine\\\")\"}, {\"id\": 109, \"label\": \"7066\", \"group\": \"Gene\", \"title\": \"Node('Gene', GeneID='7066', GeneSymbol='THPO')\"}, {\"id\": 684, \"label\": \"7066\", \"group\": \"Gene\", \"title\": \"Node('Gene', GeneID='7066', GeneSymbol='THPO')\"}, {\"id\": 102, \"label\": \"2993\", \"group\": \"Gene\", \"title\": \"Node('Gene', GeneID='2993', GeneSymbol='GYPA')\"}, {\"id\": 108, \"label\": \"7066\", \"group\": \"Gene\", \"title\": \"Node('Gene', GeneID='7066', GeneSymbol='THPO')\"}, {\"id\": 105, \"label\": \"3690\", \"group\": \"Gene\", \"title\": \"Node('Gene', GeneID='3690', GeneSymbol='ITGB3')\"}, {\"id\": 104, \"label\": \"3674\", \"group\": \"Gene\", \"title\": \"Node('Gene', GeneID='3674', GeneSymbol='ITGA2B')\"}, {\"id\": 103, \"label\": \"3674\", \"group\": \"Gene\", \"title\": \"Node('Gene', GeneID='3674', GeneSymbol='ITGA2B')\"}, {\"id\": 106, \"label\": \"3690\", \"group\": \"Gene\", \"title\": \"Node('Gene', GeneID='3690', GeneSymbol='ITGB3')\"}, {\"id\": 107, \"label\": \"7942\", \"group\": \"Gene\", \"title\": \"Node('Gene', GeneID='7942', GeneSymbol='TFEB')\"}, {\"id\": 101, \"label\": \"2811\", \"group\": \"Gene\", \"title\": \"Node('Gene', GeneID='2811', GeneSymbol='GP1BA')\"}, {\"id\": 691, \"label\": \"C067795\", \"group\": \"Chemical\", \"title\": \"Node('Chemical', CasRN='26909-37-5', ChemicalID='C067795', ChemicalName='10-decarbamoylmitomycin C')\"}, {\"id\": 692, \"label\": \"1026\", \"group\": \"Gene\", \"title\": \"Node('Gene', GeneID='1026', GeneSymbol='CDKN1A')\"}, {\"id\": 46, \"label\": \"367\", \"group\": \"Gene\", \"title\": \"Node('Gene', GeneID='367', GeneSymbol='AR')\"}, {\"id\": 81, \"label\": \"841\", \"group\": \"Gene\", \"title\": \"Node('Gene', GeneID='841', GeneSymbol='CASP8')\"}, {\"id\": 757, \"label\": \"8856\", \"group\": \"Gene\", \"title\": \"Node('Gene', GeneID='8856', GeneSymbol='NR1I2')\"}, {\"id\": 750, \"label\": \"1559\", \"group\": \"Gene\", \"title\": \"Node('Gene', GeneID='1559', GeneSymbol='CYP2C9')\"}, {\"id\": 80, \"label\": \"C534422\", \"group\": \"Chemical\", \"title\": \"Node('Chemical', CasRN='', ChemicalID='C534422', ChemicalName='10-(2-pyrazolylethoxy)camptothecin')\"}, {\"id\": 725, \"label\": \"22041\", \"group\": \"Gene\", \"title\": \"Node('Gene', GeneID='22041', GeneSymbol='TRF')\"}, {\"id\": 722, \"label\": \"3848\", \"group\": \"Gene\", \"title\": \"Node('Gene', GeneID='3848', GeneSymbol='KRT1')\"}, {\"id\": 732, \"label\": \"C000627785\", \"group\": \"Chemical\", \"title\": \"Node('Chemical', CasRN='', ChemicalID='C000627785', ChemicalName='10H-3,6-diazaphenothiazine')\"}, {\"id\": 759, \"label\": \"7364\", \"group\": \"Gene\", \"title\": \"Node('Gene', GeneID='7364', GeneSymbol='UGT2B7')\"}, {\"id\": 66, \"label\": \"C039775\", \"group\": \"Chemical\", \"title\": \"Node('Chemical', CasRN='', ChemicalID='C039775', ChemicalName='10,11-dihydro-10-hydroxycarbamazepine')\"}, {\"id\": 67, \"label\": \"5243\", \"group\": \"Gene\", \"title\": \"Node('Gene', GeneID='5243', GeneSymbol='ABCB1')\"}, {\"id\": 68, \"label\": \"C039775\", \"group\": \"Chemical\", \"title\": \"Node('Chemical', CasRN='', ChemicalID='C039775', ChemicalName='10,11-dihydro-10-hydroxycarbamazepine')\"}, {\"id\": 69, \"label\": \"1557\", \"group\": \"Gene\", \"title\": \"Node('Gene', GeneID='1557', GeneSymbol='CYP2C19')\"}, {\"id\": 719, \"label\": \"C403065\", \"group\": \"Chemical\", \"title\": \"Node('Chemical', CasRN='', ChemicalID='C403065', ChemicalName='10-(fluoroethoxyphosphinyl)-N-(biotinamidopentyl)decanamide')\"}, {\"id\": 720, \"label\": \"440387\", \"group\": \"Gene\", \"title\": \"Node('Gene', GeneID='440387', GeneSymbol='CTRB2')\"}, {\"id\": 712, \"label\": \"11947\", \"group\": \"Gene\", \"title\": \"Node('Gene', GeneID='11947', GeneSymbol='ATP5B')\"}, {\"id\": 685, \"label\": \"C013759\", \"group\": \"Chemical\", \"title\": \"Node('Chemical', CasRN='63834-04-8', ChemicalID='C013759', ChemicalName='10-(alpha-diethylaminopropionyl)phenothiazine')\"}, {\"id\": 686, \"label\": \"57817\", \"group\": \"Gene\", \"title\": \"Node('Gene', GeneID='57817', GeneSymbol='HAMP')\"}, {\"id\": 72, \"label\": \"C094849\", \"group\": \"Chemical\", \"title\": \"Node('Chemical', CasRN='', ChemicalID='C094849', ChemicalName='10,12-octadecadienoic acid')\"}, {\"id\": 73, \"label\": \"836\", \"group\": \"Gene\", \"title\": \"Node('Gene', GeneID='836', GeneSymbol='CASP3')\"}, {\"id\": 743, \"label\": \"C013567\", \"group\": \"Chemical\", \"title\": \"Node('Chemical', CasRN='1156-99-6', ChemicalID='C013567', ChemicalName='10-hydroxynortriptyline')\"}, {\"id\": 744, \"label\": \"1565\", \"group\": \"Gene\", \"title\": \"Node('Gene', GeneID='1565', GeneSymbol='CYP2D6')\"}, {\"id\": 99, \"label\": \"7422\", \"group\": \"Gene\", \"title\": \"Node('Gene', GeneID='7422', GeneSymbol='VEGFA')\"}, {\"id\": 52, \"label\": \"4609\", \"group\": \"Gene\", \"title\": \"Node('Gene', GeneID='4609', GeneSymbol='MYC')\"}, {\"id\": 754, \"label\": \"1576\", \"group\": \"Gene\", \"title\": \"Node('Gene', GeneID='1576', GeneSymbol='CYP3A4')\"}, {\"id\": 697, \"label\": \"C067795\", \"group\": \"Chemical\", \"title\": \"Node('Chemical', CasRN='26909-37-5', ChemicalID='C067795', ChemicalName='10-decarbamoylmitomycin C')\"}, {\"id\": 698, \"label\": \"1111\", \"group\": \"Gene\", \"title\": \"Node('Gene', GeneID='1111', GeneSymbol='CHEK1')\"}, {\"id\": 730, \"label\": \"C000627785\", \"group\": \"Chemical\", \"title\": \"Node('Chemical', CasRN='', ChemicalID='C000627785', ChemicalName='10H-3,6-diazaphenothiazine')\"}, {\"id\": 731, \"label\": \"839\", \"group\": \"Gene\", \"title\": \"Node('Gene', GeneID='839', GeneSymbol='CASP6')\"}, {\"id\": 746, \"label\": \"1565\", \"group\": \"Gene\", \"title\": \"Node('Gene', GeneID='1565', GeneSymbol='CYP2D6')\"}, {\"id\": 48, \"label\": \"2048\", \"group\": \"Gene\", \"title\": \"Node('Gene', GeneID='2048', GeneSymbol='EPHB2')\"}, {\"id\": 53, \"label\": \"4609\", \"group\": \"Gene\", \"title\": \"Node('Gene', GeneID='4609', GeneSymbol='MYC')\"}, {\"id\": 98, \"label\": \"C496879\", \"group\": \"Chemical\", \"title\": \"Node('Chemical', CasRN='', ChemicalID='C496879', ChemicalName='103D5R')\"}, {\"id\": 736, \"label\": \"C028098\", \"group\": \"Chemical\", \"title\": \"Node('Chemical', CasRN='67656-30-8', ChemicalID='C028098', ChemicalName='10-hydroxycamptothecin')\"}, {\"id\": 737, \"label\": \"598\", \"group\": \"Gene\", \"title\": \"Node('Gene', GeneID='598', GeneSymbol='BCL2L1')\"}, {\"id\": 93, \"label\": \"5595\", \"group\": \"Gene\", \"title\": \"Node('Gene', GeneID='5595', GeneSymbol='MAPK3')\"}, {\"id\": 702, \"label\": \"1111\", \"group\": \"Gene\", \"title\": \"Node('Gene', GeneID='1111', GeneSymbol='CHEK1')\"}, {\"id\": 753, \"label\": \"1576\", \"group\": \"Gene\", \"title\": \"Node('Gene', GeneID='1576', GeneSymbol='CYP3A4')\"}, {\"id\": 55, \"label\": \"2353\", \"group\": \"Gene\", \"title\": \"Node('Gene', GeneID='2353', GeneSymbol='FOS')\"}, {\"id\": 49, \"label\": \"4149\", \"group\": \"Gene\", \"title\": \"Node('Gene', GeneID='4149', GeneSymbol='MAX')\"}, {\"id\": 84, \"label\": \"C496879\", \"group\": \"Chemical\", \"title\": \"Node('Chemical', CasRN='', ChemicalID='C496879', ChemicalName='103D5R')\"}, {\"id\": 85, \"label\": \"3091\", \"group\": \"Gene\", \"title\": \"Node('Gene', GeneID='3091', GeneSymbol='HIF1A')\"}, {\"id\": 721, \"label\": \"3797\", \"group\": \"Gene\", \"title\": \"Node('Gene', GeneID='3797', GeneSymbol='KIF3C')\"}, {\"id\": 695, \"label\": \"C067795\", \"group\": \"Chemical\", \"title\": \"Node('Chemical', CasRN='26909-37-5', ChemicalID='C067795', ChemicalName='10-decarbamoylmitomycin C')\"}, {\"id\": 696, \"label\": \"1111\", \"group\": \"Gene\", \"title\": \"Node('Gene', GeneID='1111', GeneSymbol='CHEK1')\"}, {\"id\": 88, \"label\": \"C496879\", \"group\": \"Chemical\", \"title\": \"Node('Chemical', CasRN='', ChemicalID='C496879', ChemicalName='103D5R')\"}, {\"id\": 89, \"label\": \"3091\", \"group\": \"Gene\", \"title\": \"Node('Gene', GeneID='3091', GeneSymbol='HIF1A')\"}, {\"id\": 704, \"label\": \"7157\", \"group\": \"Gene\", \"title\": \"Node('Gene', GeneID='7157', GeneSymbol='TP53')\"}, {\"id\": 82, \"label\": \"C496879\", \"group\": \"Chemical\", \"title\": \"Node('Chemical', CasRN='', ChemicalID='C496879', ChemicalName='103D5R')\"}, {\"id\": 83, \"label\": \"207\", \"group\": \"Gene\", \"title\": \"Node('Gene', GeneID='207', GeneSymbol='AKT1')\"}, {\"id\": 45, \"label\": \"C534883\", \"group\": \"Chemical\", \"title\": \"Node('Chemical', CasRN='', ChemicalID='C534883', ChemicalName='10074-G5')\"}, {\"id\": 51, \"label\": \"4609\", \"group\": \"Gene\", \"title\": \"Node('Gene', GeneID='4609', GeneSymbol='MYC')\"}, {\"id\": 47, \"label\": \"2048\", \"group\": \"Gene\", \"title\": \"Node('Gene', GeneID='2048', GeneSymbol='EPHB2')\"}, {\"id\": 50, \"label\": \"4149\", \"group\": \"Gene\", \"title\": \"Node('Gene', GeneID='4149', GeneSymbol='MAX')\"}, {\"id\": 729, \"label\": \"835\", \"group\": \"Gene\", \"title\": \"Node('Gene', GeneID='835', GeneSymbol='CASP2')\"}, {\"id\": 693, \"label\": \"C067795\", \"group\": \"Chemical\", \"title\": \"Node('Chemical', CasRN='26909-37-5', ChemicalID='C067795', ChemicalName='10-decarbamoylmitomycin C')\"}, {\"id\": 694, \"label\": \"1111\", \"group\": \"Gene\", \"title\": \"Node('Gene', GeneID='1111', GeneSymbol='CHEK1')\"}, {\"id\": 727, \"label\": \"160428\", \"group\": \"Gene\", \"title\": \"Node('Gene', GeneID='160428', GeneSymbol='ALDH1L2')\"}, {\"id\": 95, \"label\": \"5599\", \"group\": \"Gene\", \"title\": \"Node('Gene', GeneID='5599', GeneSymbol='MAPK8')\"}, {\"id\": 92, \"label\": \"C496879\", \"group\": \"Chemical\", \"title\": \"Node('Chemical', CasRN='', ChemicalID='C496879', ChemicalName='103D5R')\"}, {\"id\": 77, \"label\": \"79966\", \"group\": \"Gene\", \"title\": \"Node('Gene', GeneID='79966', GeneSymbol='SCD5')\"}, {\"id\": 741, \"label\": \"C028098\", \"group\": \"Chemical\", \"title\": \"Node('Chemical', CasRN='67656-30-8', ChemicalID='C028098', ChemicalName='10-hydroxycamptothecin')\"}, {\"id\": 742, \"label\": \"4193\", \"group\": \"Gene\", \"title\": \"Node('Gene', GeneID='4193', GeneSymbol='MDM2')\"}, {\"id\": 699, \"label\": \"C067795\", \"group\": \"Chemical\", \"title\": \"Node('Chemical', CasRN='26909-37-5', ChemicalID='C067795', ChemicalName='10-decarbamoylmitomycin C')\"}, {\"id\": 700, \"label\": \"1111\", \"group\": \"Gene\", \"title\": \"Node('Gene', GeneID='1111', GeneSymbol='CHEK1')\"}, {\"id\": 96, \"label\": \"C496879\", \"group\": \"Chemical\", \"title\": \"Node('Chemical', CasRN='', ChemicalID='C496879', ChemicalName='103D5R')\"}, {\"id\": 97, \"label\": \"6513\", \"group\": \"Gene\", \"title\": \"Node('Gene', GeneID='6513', GeneSymbol='SLC2A1')\"}, {\"id\": 726, \"label\": \"C010161\", \"group\": \"Chemical\", \"title\": \"Node('Chemical', CasRN='2800-34-2', ChemicalID='C010161', ChemicalName='10-formyltetrahydropteroylglutamic acid')\"}, {\"id\": 717, \"label\": \"C403065\", \"group\": \"Chemical\", \"title\": \"Node('Chemical', CasRN='', ChemicalID='C403065', ChemicalName='10-(fluoroethoxyphosphinyl)-N-(biotinamidopentyl)decanamide')\"}, {\"id\": 718, \"label\": \"13884\", \"group\": \"Gene\", \"title\": \"Node('Gene', GeneID='13884', GeneSymbol='CES1C')\"}, {\"id\": 716, \"label\": \"590\", \"group\": \"Gene\", \"title\": \"Node('Gene', GeneID='590', GeneSymbol='BCHE')\"}, {\"id\": 70, \"label\": \"C515697\", \"group\": \"Chemical\", \"title\": \"Node('Chemical', CasRN='', ChemicalID='C515697', ChemicalName='10,11-dihydro-5H-dibenzo(a,d)cycloheptene')\"}, {\"id\": 63, \"label\": \"3786\", \"group\": \"Gene\", \"title\": \"Node('Gene', GeneID='3786', GeneSymbol='KCNQ3')\"}, {\"id\": 701, \"label\": \"C067795\", \"group\": \"Chemical\", \"title\": \"Node('Chemical', CasRN='26909-37-5', ChemicalID='C067795', ChemicalName='10-decarbamoylmitomycin C')\"}, {\"id\": 755, \"label\": \"1576\", \"group\": \"Gene\", \"title\": \"Node('Gene', GeneID='1576', GeneSymbol='CYP3A4')\"}, {\"id\": 64, \"label\": \"C004822\", \"group\": \"Chemical\", \"title\": \"Node('Chemical', CasRN='35079-97-1', ChemicalID='C004822', ChemicalName='10,11-dihydro-10,11-dihydroxy-5H-dibenzazepine-5-carboxamide')\"}, {\"id\": 65, \"label\": \"2052\", \"group\": \"Gene\", \"title\": \"Node('Gene', GeneID='2052', GeneSymbol='EPHX1')\"}, {\"id\": 708, \"label\": \"58\", \"group\": \"Gene\", \"title\": \"Node('Gene', GeneID='58', GeneSymbol='ACTA1')\"}, {\"id\": 733, \"label\": \"C000627785\", \"group\": \"Chemical\", \"title\": \"Node('Chemical', CasRN='', ChemicalID='C000627785', ChemicalName='10H-3,6-diazaphenothiazine')\"}, {\"id\": 690, \"label\": \"842\", \"group\": \"Gene\", \"title\": \"Node('Gene', GeneID='842', GeneSymbol='CASP9')\"}, {\"id\": 707, \"label\": \"C403065\", \"group\": \"Chemical\", \"title\": \"Node('Chemical', CasRN='', ChemicalID='C403065', ChemicalName='10-(fluoroethoxyphosphinyl)-N-(biotinamidopentyl)decanamide')\"}, {\"id\": 756, \"label\": \"8856\", \"group\": \"Gene\", \"title\": \"Node('Gene', GeneID='8856', GeneSymbol='NR1I2')\"}, {\"id\": 713, \"label\": \"C403065\", \"group\": \"Chemical\", \"title\": \"Node('Chemical', CasRN='', ChemicalID='C403065', ChemicalName='10-(fluoroethoxyphosphinyl)-N-(biotinamidopentyl)decanamide')\"}, {\"id\": 714, \"label\": \"563\", \"group\": \"Gene\", \"title\": \"Node('Gene', GeneID='563', GeneSymbol='AZGP1')\"}, {\"id\": 734, \"label\": \"C028098\", \"group\": \"Chemical\", \"title\": \"Node('Chemical', CasRN='67656-30-8', ChemicalID='C028098', ChemicalName='10-hydroxycamptothecin')\"}, {\"id\": 735, \"label\": \"596\", \"group\": \"Gene\", \"title\": \"Node('Gene', GeneID='596', GeneSymbol='BCL2')\"}, {\"id\": 723, \"label\": \"291\", \"group\": \"Gene\", \"title\": \"Node('Gene', GeneID='291', GeneSymbol='SLC25A4')\"}, {\"id\": 715, \"label\": \"C403065\", \"group\": \"Chemical\", \"title\": \"Node('Chemical', CasRN='', ChemicalID='C403065', ChemicalName='10-(fluoroethoxyphosphinyl)-N-(biotinamidopentyl)decanamide')\"}, {\"id\": 710, \"label\": \"213\", \"group\": \"Gene\", \"title\": \"Node('Gene', GeneID='213', GeneSymbol='ALB')\"}, {\"id\": 703, \"label\": \"7157\", \"group\": \"Gene\", \"title\": \"Node('Gene', GeneID='7157', GeneSymbol='TP53')\"}, {\"id\": 86, \"label\": \"C496879\", \"group\": \"Chemical\", \"title\": \"Node('Chemical', CasRN='', ChemicalID='C496879', ChemicalName='103D5R')\"}, {\"id\": 87, \"label\": \"3091\", \"group\": \"Gene\", \"title\": \"Node('Gene', GeneID='3091', GeneSymbol='HIF1A')\"}, {\"id\": 739, \"label\": \"C028098\", \"group\": \"Chemical\", \"title\": \"Node('Chemical', CasRN='67656-30-8', ChemicalID='C028098', ChemicalName='10-hydroxycamptothecin')\"}, {\"id\": 740, \"label\": \"1649\", \"group\": \"Gene\", \"title\": \"Node('Gene', GeneID='1649', GeneSymbol='DDIT3')\"}, {\"id\": 687, \"label\": \"C095360\", \"group\": \"Chemical\", \"title\": \"Node('Chemical', CasRN='', ChemicalID='C095360', ChemicalName='10-deacetylpaclitaxel')\"}, {\"id\": 62, \"label\": \"C112297\", \"group\": \"Chemical\", \"title\": \"Node('Chemical', CasRN='', ChemicalID='C112297', ChemicalName='10,10-bis(4-pyridinylmethyl)-9(10H)-anthracenone')\"}, {\"id\": 90, \"label\": \"C496879\", \"group\": \"Chemical\", \"title\": \"Node('Chemical', CasRN='', ChemicalID='C496879', ChemicalName='103D5R')\"}, {\"id\": 91, \"label\": \"5594\", \"group\": \"Gene\", \"title\": \"Node('Gene', GeneID='5594', GeneSymbol='MAPK1')\"}, {\"id\": 689, \"label\": \"C067795\", \"group\": \"Chemical\", \"title\": \"Node('Chemical', CasRN='26909-37-5', ChemicalID='C067795', ChemicalName='10-decarbamoylmitomycin C')\"}, {\"id\": 75, \"label\": \"5468\", \"group\": \"Gene\", \"title\": \"Node('Gene', GeneID='5468', GeneSymbol='PPARG')\"}];\n",
       "    var edges = [{\"from\": 78, \"to\": 79, \"label\": \"increases^activity\"}, {\"from\": 58, \"to\": 59, \"label\": \"increases^import\"}, {\"from\": 58, \"to\": 59, \"label\": \"increases^activity\"}, {\"from\": 58, \"to\": 59, \"label\": \"affects^reaction\"}, {\"from\": 751, \"to\": 752, \"label\": \"increases^expression\"}, {\"from\": 751, \"to\": 752, \"label\": \"increases^activity\"}, {\"from\": 751, \"to\": 752, \"label\": \"affects^binding\"}, {\"from\": 56, \"to\": 57, \"label\": \"decreases^activity\"}, {\"from\": 100, \"to\": 109, \"label\": \"decreases^reaction\"}, {\"from\": 100, \"to\": 684, \"label\": \"decreases^reaction\"}, {\"from\": 100, \"to\": 102, \"label\": \"decreases^expression\"}, {\"from\": 100, \"to\": 108, \"label\": \"decreases^reaction\"}, {\"from\": 100, \"to\": 105, \"label\": \"increases^expression\"}, {\"from\": 100, \"to\": 104, \"label\": \"increases^expression\"}, {\"from\": 100, \"to\": 104, \"label\": \"decreases^reaction\"}, {\"from\": 100, \"to\": 105, \"label\": \"decreases^reaction\"}, {\"from\": 100, \"to\": 102, \"label\": \"decreases^reaction\"}, {\"from\": 100, \"to\": 103, \"label\": \"increases^expression\"}, {\"from\": 100, \"to\": 109, \"label\": \"increases^expression\"}, {\"from\": 100, \"to\": 106, \"label\": \"decreases^reaction\"}, {\"from\": 100, \"to\": 106, \"label\": \"increases^expression\"}, {\"from\": 100, \"to\": 103, \"label\": \"decreases^reaction\"}, {\"from\": 100, \"to\": 107, \"label\": \"affects^localization\"}, {\"from\": 100, \"to\": 684, \"label\": \"increases^expression\"}, {\"from\": 100, \"to\": 108, \"label\": \"increases^expression\"}, {\"from\": 100, \"to\": 101, \"label\": \"increases^expression\"}, {\"from\": 100, \"to\": 101, \"label\": \"decreases^reaction\"}, {\"from\": 691, \"to\": 692, \"label\": \"increases^expression\"}, {\"from\": 691, \"to\": 692, \"label\": \"increases^stability\"}, {\"from\": 80, \"to\": 81, \"label\": \"increases^activity\"}, {\"from\": 732, \"to\": 81, \"label\": \"increases^activity\"}, {\"from\": 66, \"to\": 67, \"label\": \"increases^transport\"}, {\"from\": 68, \"to\": 69, \"label\": \"decreases^activity\"}, {\"from\": 719, \"to\": 720, \"label\": \"affects^binding\"}, {\"from\": 685, \"to\": 686, \"label\": \"decreases^expression\"}, {\"from\": 72, \"to\": 73, \"label\": \"affects^cotreatment\"}, {\"from\": 72, \"to\": 73, \"label\": \"increases^expression\"}, {\"from\": 743, \"to\": 744, \"label\": \"increases^abundance\"}, {\"from\": 697, \"to\": 698, \"label\": \"decreases^expression\"}, {\"from\": 730, \"to\": 731, \"label\": \"increases^activity\"}, {\"from\": 98, \"to\": 99, \"label\": \"decreases^expression\"}, {\"from\": 736, \"to\": 737, \"label\": \"affects^response to substance\"}, {\"from\": 84, \"to\": 85, \"label\": \"increases^expression\"}, {\"from\": 84, \"to\": 85, \"label\": \"decreases^reaction\"}, {\"from\": 695, \"to\": 696, \"label\": \"decreases^expression\"}, {\"from\": 88, \"to\": 89, \"label\": \"decreases^expression\"}, {\"from\": 82, \"to\": 83, \"label\": \"decreases^phosphorylation\"}, {\"from\": 45, \"to\": 51, \"label\": \"decreases^reaction\"}, {\"from\": 45, \"to\": 51, \"label\": \"affects^binding\"}, {\"from\": 45, \"to\": 51, \"label\": \"decreases^activity\"}, {\"from\": 45, \"to\": 51, \"label\": \"decreases^expression\"}, {\"from\": 45, \"to\": 51, \"label\": \"affects^folding\"}, {\"from\": 45, \"to\": 49, \"label\": \"affects^binding\"}, {\"from\": 45, \"to\": 53, \"label\": \"increases^expression\"}, {\"from\": 45, \"to\": 47, \"label\": \"increases^expression\"}, {\"from\": 45, \"to\": 47, \"label\": \"decreases^reaction\"}, {\"from\": 45, \"to\": 49, \"label\": \"decreases^activity\"}, {\"from\": 45, \"to\": 51, \"label\": \"increases^expression\"}, {\"from\": 45, \"to\": 48, \"label\": \"increases^expression\"}, {\"from\": 45, \"to\": 53, \"label\": \"decreases^reaction\"}, {\"from\": 45, \"to\": 46, \"label\": \"decreases^reaction\"}, {\"from\": 45, \"to\": 51, \"label\": \"affects^reaction\"}, {\"from\": 45, \"to\": 50, \"label\": \"affects^binding\"}, {\"from\": 45, \"to\": 48, \"label\": \"decreases^reaction\"}, {\"from\": 45, \"to\": 46, \"label\": \"decreases^expression\"}, {\"from\": 45, \"to\": 52, \"label\": \"decreases^expression\"}, {\"from\": 45, \"to\": 49, \"label\": \"affects^folding\"}, {\"from\": 45, \"to\": 50, \"label\": \"decreases^reaction\"}, {\"from\": 45, \"to\": 46, \"label\": \"affects^reaction\"}, {\"from\": 45, \"to\": 46, \"label\": \"increases^expression\"}, {\"from\": 693, \"to\": 694, \"label\": \"decreases^stability\"}, {\"from\": 693, \"to\": 694, \"label\": \"decreases^expression\"}, {\"from\": 92, \"to\": 93, \"label\": \"decreases^phosphorylation\"}, {\"from\": 741, \"to\": 742, \"label\": \"affects^response to substance\"}, {\"from\": 699, \"to\": 700, \"label\": \"decreases^expression\"}, {\"from\": 699, \"to\": 700, \"label\": \"decreases^reaction\"}, {\"from\": 96, \"to\": 97, \"label\": \"decreases^expression\"}, {\"from\": 726, \"to\": 727, \"label\": \"increases^metabolic processing\"}, {\"from\": 717, \"to\": 718, \"label\": \"affects^binding\"}, {\"from\": 70, \"to\": 46, \"label\": \"decreases^reaction\"}, {\"from\": 70, \"to\": 46, \"label\": \"affects^binding\"}, {\"from\": 701, \"to\": 702, \"label\": \"affects^response to substance\"}, {\"from\": 64, \"to\": 65, \"label\": \"increases^metabolic processing\"}, {\"from\": 64, \"to\": 65, \"label\": \"increases^chemical synthesis\"}, {\"from\": 64, \"to\": 65, \"label\": \"affects^metabolic processing\"}, {\"from\": 64, \"to\": 65, \"label\": \"affects^chemical synthesis\"}, {\"from\": 733, \"to\": 690, \"label\": \"increases^activity\"}, {\"from\": 707, \"to\": 708, \"label\": \"affects^binding\"}, {\"from\": 713, \"to\": 714, \"label\": \"affects^binding\"}, {\"from\": 734, \"to\": 735, \"label\": \"affects^response to substance\"}, {\"from\": 715, \"to\": 716, \"label\": \"decreases^activity\"}, {\"from\": 86, \"to\": 87, \"label\": \"decreases^activity\"}, {\"from\": 86, \"to\": 87, \"label\": \"decreases^expression\"}, {\"from\": 739, \"to\": 740, \"label\": \"increases^expression\"}, {\"from\": 687, \"to\": 67, \"label\": \"affects^binding\"}, {\"from\": 62, \"to\": 63, \"label\": \"affects^binding\"}, {\"from\": 62, \"to\": 63, \"label\": \"increases^transport\"}, {\"from\": 62, \"to\": 63, \"label\": \"decreases^reaction\"}, {\"from\": 90, \"to\": 91, \"label\": \"decreases^phosphorylation\"}, {\"from\": 689, \"to\": 690, \"label\": \"increases^activity\"}];\n",
       "\n",
       "    var container = document.getElementById(\"42acde25-6b04-43b7-b9d4-c02bd02e3919\");\n",
       "\n",
       "    var data = {\n",
       "        nodes: nodes,\n",
       "        edges: edges\n",
       "    };\n",
       "\n",
       "    var options = {\n",
       "    nodes: {\n",
       "        shape: 'dot',\n",
       "        size: 25,\n",
       "        font: {\n",
       "            size: 14\n",
       "        }\n",
       "    },\n",
       "    edges: {\n",
       "        font: {\n",
       "            size: 14,\n",
       "            align: 'middle'\n",
       "        },\n",
       "        color: 'gray',\n",
       "        arrows: {\n",
       "            to: {\n",
       "                enabled: true,\n",
       "                scaleFactor: 0.5\n",
       "            }\n",
       "        },\n",
       "        smooth: {\n",
       "            enabled: false\n",
       "        }\n",
       "    },\n",
       "    physics: {\n",
       "        enabled: true\n",
       "        }\n",
       "    };\n",
       "\n",
       "    var network = new vis.Network(container, data, options);\n",
       "\n",
       "</script>\n"
      ],
      "text/plain": [
       "<IPython.core.display.HTML object>"
      ]
     },
     "execution_count": 6,
     "metadata": {},
     "output_type": "execute_result"
    }
   ],
   "source": [
    "nj.draw(graph, {\"Chemical\": \"ChemicalID\", \"Gene\": \"GeneID\"})"
   ]
  }
 ],
 "metadata": {
  "interpreter": {
   "hash": "04476e9ea0eacb645a8a7141a4a74d81575d6d63a943879aa2841623c22712d5"
  },
  "kernelspec": {
   "display_name": "Python 3.8.12 ('ontox4j')",
   "language": "python",
   "name": "python3"
  },
  "language_info": {
   "codemirror_mode": {
    "name": "ipython",
    "version": 3
   },
   "file_extension": ".py",
   "mimetype": "text/x-python",
   "name": "python",
   "nbconvert_exporter": "python",
   "pygments_lexer": "ipython3",
   "version": "3.8.12"
  },
  "orig_nbformat": 4
 },
 "nbformat": 4,
 "nbformat_minor": 2
}
